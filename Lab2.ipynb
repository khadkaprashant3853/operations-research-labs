{
 "cells": [
  {
   "cell_type": "markdown",
   "metadata": {},
   "source": [
    "# Lab 2: Problem Solving\n",
    "**Name:** Prashant Khadka  \n",
    "**Class:** CPSMA-3933-01  \n",
    "**Instructor:** Nicholas Jacob  \n",
    "**Date:** 2025-09-16 "
   ]
  },
  {
   "cell_type": "markdown",
   "metadata": {
    "id": "ABJslq5hb0Z-",
    "jp-MarkdownHeadingCollapsed": true
   },
   "source": [
    "## Factorials\n",
    "\n",
    "A factorial is the product of all previous numbers and is expressed with an exclamation $!$.  Thus\n",
    "$$\n",
    "3! = 3\\cdot 2\\cdot 1 = 6\n",
    "$$\n",
    "\n",
    "and\n",
    "$$\n",
    "n! = n(n-1)(n-2)\\cdots3\\cdot2\\cdot1\n",
    "$$\n",
    "\n",
    "How many zeros does $1000!$ end with?  Please do not count them in the number below as the precision may be off!"
   ]
  },
  {
   "cell_type": "code",
   "execution_count": 2,
   "metadata": {
    "colab": {
     "base_uri": "https://localhost:8080/"
    },
    "id": "LfbWxWvKbsQb",
    "outputId": "4a9abe4f-5f94-40c8-c172-ff4f745dc9e6"
   },
   "outputs": [
    {
     "name": "stdout",
     "output_type": "stream",
     "text": [
      "Number of zeros in 1000! :  249\n"
     ]
    }
   ],
   "source": [
    "import math\n",
    "\n",
    "factorialString = str(math.factorial(1000))\n",
    "\n",
    "count = 0\n",
    "\n",
    "for digit in reversed(factorialString):\n",
    "    if digit == '0':\n",
    "        count += 1\n",
    "    else:\n",
    "        break\n",
    "\n",
    "print(\"Number of zeros in 1000! : \", count)\n",
    "\n"
   ]
  },
  {
   "cell_type": "markdown",
   "metadata": {
    "id": "yZpb4Ghbc4Zo"
   },
   "source": [
    "## Big Numbers\n",
    "\n",
    "The sum of the digits of the number $100^{13}-26$ is how much?"
   ]
  },
  {
   "cell_type": "code",
   "execution_count": 6,
   "metadata": {
    "colab": {
     "base_uri": "https://localhost:8080/"
    },
    "id": "lisdG2RhiMEw",
    "outputId": "083c4b84-b445-4c08-ea74-b96d17384d36"
   },
   "outputs": [
    {
     "name": "stdout",
     "output_type": "stream",
     "text": [
      "the number is  99999999999999999999999974\n",
      "sum of digits is  227\n"
     ]
    }
   ],
   "source": [
    "n= str(100**13 - 26)\n",
    "\n",
    "print(\"the number is \",n)\n",
    "sum = 0\n",
    "for digit in n:\n",
    "    sum += int(digit)\n",
    "print(\"sum of digits is \",sum)"
   ]
  },
  {
   "cell_type": "markdown",
   "metadata": {
    "id": "5p6sa9qZio6Z"
   },
   "source": [
    "## Handshakes\n",
    "\n",
    "Two soccer teams have just finished their game.  The two teams of 11 all shake hands and the winning team also shakes hand with each other.  How many handshakes have occured?"
   ]
  },
  {
   "cell_type": "code",
   "execution_count": 8,
   "metadata": {},
   "outputs": [
    {
     "name": "stdout",
     "output_type": "stream",
     "text": [
      "the total number of handshake is :  176.0\n"
     ]
    }
   ],
   "source": [
    "players = 11\n",
    "handshake_between_team = 11*11\n",
    "handshake_among_winning_team = 11*(11-1)/2\n",
    "total_handshake = handshake_between_team + handshake_among_winning_team\n",
    "print(\"the total number of handshake is : \", total_handshake)"
   ]
  },
  {
   "cell_type": "markdown",
   "metadata": {
    "id": "g4ypceUKjJrp"
   },
   "source": [
    "## Harder Handshakes\n",
    "\n",
    "Mr. Smith and his wife invited four other couples for a dinner party.  When everyone arrived, handshakes were exchanged with some of the others.  Of course no one shook hands with their spouse and nobody shook hands with the same person twice.\n",
    "\n",
    "Mr. Smith asked everyone how many times they shook hands.  He recieved a different answer from each person.\n",
    "\n",
    "How many times did Mr. Smith shake hands?"
   ]
  },
  {
   "cell_type": "code",
   "execution_count": 10,
   "metadata": {
    "id": "qyHeUOSajwat"
   },
   "outputs": [
    {
     "name": "stdout",
     "output_type": "stream",
     "text": [
      "Mr. Smith shook hands  4  times\n"
     ]
    }
   ],
   "source": [
    "couples = 5\n",
    "people = couples * 2\n",
    "\n",
    "max_handshakes = people - 2  # 10 people minus self and spouse\n",
    "\n",
    "# Everyone reports a different number of handshakes\n",
    "handshake_counts = list(range(max_handshakes + 1))  # [0,1,...,8]\n",
    "\n",
    "# Pair smallest with largest, next smallest with next largest, etc.\n",
    "spouse_pairs = [(0,8), (1,7), (2,6), (3,5), (4,4)]\n",
    "\n",
    "# Mr. Smith and his wife form the pair that has same handshake count\n",
    "mr_smith_handshakes = 4\n",
    "print(f\"Mr. Smith shook hands \", mr_smith_handshakes, \" times\")"
   ]
  }
 ],
 "metadata": {
  "colab": {
   "authorship_tag": "ABX9TyNDThpM+NG7uP4N7IeWn0GM",
   "include_colab_link": true,
   "provenance": []
  },
  "kernelspec": {
   "display_name": "anaconda-panel-2023.05-py310",
   "language": "python",
   "name": "conda-env-anaconda-panel-2023.05-py310-py"
  },
  "language_info": {
   "codemirror_mode": {
    "name": "ipython",
    "version": 3
   },
   "file_extension": ".py",
   "mimetype": "text/x-python",
   "name": "python",
   "nbconvert_exporter": "python",
   "pygments_lexer": "ipython3",
   "version": "3.11.5"
  }
 },
 "nbformat": 4,
 "nbformat_minor": 4
}
