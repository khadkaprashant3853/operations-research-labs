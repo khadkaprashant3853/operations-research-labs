{
 "cells": [
  {
   "cell_type": "markdown",
   "id": "8698ea41-fb43-42af-b55a-af4ca10a2ad3",
   "metadata": {},
   "source": [
    "# Assignment 1\n",
    "**Name:** Prashant Khadka  \n",
    "**Class:** CPSMA-3933-01  \n",
    "**Instructor:** Nicholas Jacob  \n",
    "**Date:** 2025-09-02  "
   ]
  },
  {
   "cell_type": "markdown",
   "id": "3937b540-a70f-4f84-9434-086424891757",
   "metadata": {},
   "source": [
    "## My favorite function  \n",
    "### Factorial function\n",
    "My favorite function is the factorial function. This function accepts any whole number as input and returns the product of all natural numbers up to and including the input number. I find this interesting because of how it grows with every increasing input number.  \n",
    "I also find the recursive aspect of the function very interesting since that ties to the programming concept of recursion. For instance, 5! (*! is the symbol for factorial*) is 5 times 4!.\n",
    "\n",
    "#### Examples \n",
    "f(5) = 5! = 5 * 4 * 3 * 2 * 1  = 120  \n",
    "f(6) = 6! = 6 * 5 * 4 * 3 * 2 * 1 = 720  \n",
    "f(1) = 1! = 1  \n",
    "f(0) = 0! = 1  \n",
    "**Note:** 0! is a special case where its value is 1. Additionally, the factorial function is not defined for negative numbers.\n"
   ]
  },
  {
   "cell_type": "markdown",
   "id": "bdf342c0-fbf6-4319-8193-fd8c4009e467",
   "metadata": {},
   "source": [
    "### Recursive Implementation  \n",
    "The following function is a recursive implementation of the factorial function:"
   ]
  },
  {
   "cell_type": "code",
   "execution_count": 2,
   "id": "34259cd6-175d-49b7-aeb9-5dbaa5d95892",
   "metadata": {},
   "outputs": [],
   "source": [
    "def factorial(number):\n",
    "    # Check if number is acceptable \n",
    "    if (number < 0):\n",
    "        raise ValueError(\"Number should be greater than or equal to zero\")\n",
    "\n",
    "    # Base case for recursion\n",
    "    if (number == 0 or number == 1):\n",
    "        return 1\n",
    "\n",
    "    return number * factorial(number - 1)"
   ]
  },
  {
   "cell_type": "markdown",
   "id": "eb9c956e-0dfc-41c8-b672-64ce6c72e313",
   "metadata": {},
   "source": [
    "#### Values using the recursive function"
   ]
  },
  {
   "cell_type": "code",
   "execution_count": 4,
   "id": "9d6ba76f-8d79-4a15-880e-865a58b311f6",
   "metadata": {},
   "outputs": [
    {
     "name": "stdout",
     "output_type": "stream",
     "text": [
      "1\n"
     ]
    }
   ],
   "source": [
    "print(factorial(0))"
   ]
  },
  {
   "cell_type": "code",
   "execution_count": 5,
   "id": "3ab0352e-03ae-425c-8865-f207ff4bf8c9",
   "metadata": {},
   "outputs": [
    {
     "name": "stdout",
     "output_type": "stream",
     "text": [
      "120\n"
     ]
    }
   ],
   "source": [
    "print(factorial(5))"
   ]
  },
  {
   "cell_type": "code",
   "execution_count": 6,
   "id": "7715043e-5dc0-4707-b7be-afc10d2de94f",
   "metadata": {},
   "outputs": [
    {
     "name": "stdout",
     "output_type": "stream",
     "text": [
      "3628800\n"
     ]
    }
   ],
   "source": [
    "print(factorial(10))"
   ]
  },
  {
   "cell_type": "code",
   "execution_count": 28,
   "id": "3d22cd92-982e-4b99-b2ee-1f4cdd46211d",
   "metadata": {},
   "outputs": [
    {
     "ename": "ValueError",
     "evalue": "Number should be greater than or equal to zero",
     "output_type": "error",
     "traceback": [
      "\u001b[0;31m---------------------------------------------------------------------------\u001b[0m",
      "\u001b[0;31mValueError\u001b[0m                                Traceback (most recent call last)",
      "Cell \u001b[0;32mIn[28], line 1\u001b[0m\n\u001b[0;32m----> 1\u001b[0m \u001b[38;5;28mprint\u001b[39m(\u001b[43mfactorial\u001b[49m\u001b[43m(\u001b[49m\u001b[38;5;241;43m-\u001b[39;49m\u001b[38;5;241;43m1\u001b[39;49m\u001b[43m)\u001b[49m)\n",
      "Cell \u001b[0;32mIn[2], line 4\u001b[0m, in \u001b[0;36mfactorial\u001b[0;34m(number)\u001b[0m\n\u001b[1;32m      1\u001b[0m \u001b[38;5;28;01mdef\u001b[39;00m \u001b[38;5;21mfactorial\u001b[39m(number):\n\u001b[1;32m      2\u001b[0m     \u001b[38;5;66;03m# Check if number is acceptable \u001b[39;00m\n\u001b[1;32m      3\u001b[0m     \u001b[38;5;28;01mif\u001b[39;00m (number \u001b[38;5;241m<\u001b[39m \u001b[38;5;241m0\u001b[39m):\n\u001b[0;32m----> 4\u001b[0m         \u001b[38;5;28;01mraise\u001b[39;00m \u001b[38;5;167;01mValueError\u001b[39;00m(\u001b[38;5;124m\"\u001b[39m\u001b[38;5;124mNumber should be greater than or equal to zero\u001b[39m\u001b[38;5;124m\"\u001b[39m)\n\u001b[1;32m      6\u001b[0m     \u001b[38;5;66;03m# Base case for recursion\u001b[39;00m\n\u001b[1;32m      7\u001b[0m     \u001b[38;5;28;01mif\u001b[39;00m (number \u001b[38;5;241m==\u001b[39m \u001b[38;5;241m0\u001b[39m \u001b[38;5;129;01mor\u001b[39;00m number \u001b[38;5;241m==\u001b[39m \u001b[38;5;241m1\u001b[39m):\n",
      "\u001b[0;31mValueError\u001b[0m: Number should be greater than or equal to zero"
     ]
    }
   ],
   "source": [
    "print(factorial(-1)) #should raise an error since there cannot be negative factorials"
   ]
  },
  {
   "cell_type": "markdown",
   "id": "edfa6f51-223c-4bcc-9434-190273e2a682",
   "metadata": {},
   "source": [
    "## Performing operations on a list of values  "
   ]
  },
  {
   "cell_type": "markdown",
   "id": "670d2c05-2287-4849-a1d2-a0b2a74253e4",
   "metadata": {},
   "source": [
    "### Generating the values\n",
    "I am generating a list of 10 values between 1 and 100 using the random function in python."
   ]
  },
  {
   "cell_type": "code",
   "execution_count": 14,
   "id": "b33355de-8f42-4a00-801c-7d1e9683f74f",
   "metadata": {},
   "outputs": [
    {
     "name": "stdout",
     "output_type": "stream",
     "text": [
      "[36, 25, 40, 43, 16, 34, 45, 36, 74, 44]\n"
     ]
    }
   ],
   "source": [
    "import random\n",
    "random_numbers = [random.randint(1,100) for i in range(10)]\n",
    "print(random_numbers)"
   ]
  },
  {
   "cell_type": "markdown",
   "id": "5e3379e8-7b6a-4406-8f09-f691dd9c2fb6",
   "metadata": {},
   "source": [
    "### Sum of values"
   ]
  },
  {
   "cell_type": "code",
   "execution_count": 23,
   "id": "7bc9513f-42c3-411b-838f-ed1d302910af",
   "metadata": {},
   "outputs": [
    {
     "name": "stdout",
     "output_type": "stream",
     "text": [
      "Sum:  393\n"
     ]
    }
   ],
   "source": [
    "sum_of_numbers = sum(random_numbers)\n",
    "print(\"Sum: \", sum_of_numbers)"
   ]
  },
  {
   "cell_type": "markdown",
   "id": "eecee1aa-c507-4d42-9b48-be5772bb2546",
   "metadata": {},
   "source": [
    "Alternatively, using a loop to calculate the sum"
   ]
  },
  {
   "cell_type": "code",
   "execution_count": 24,
   "id": "2f171a89-31db-4bbe-8a79-4ab1a88c42c8",
   "metadata": {},
   "outputs": [
    {
     "name": "stdout",
     "output_type": "stream",
     "text": [
      "Sum using loop:  393\n"
     ]
    }
   ],
   "source": [
    "sum_using_loop = 0\n",
    "for number in random_numbers:\n",
    "    sum_using_loop += number\n",
    "print(\"Sum using loop: \", sum_using_loop)"
   ]
  },
  {
   "cell_type": "markdown",
   "id": "daf1caac-4b75-4513-8b7a-ab70ef70fa92",
   "metadata": {},
   "source": [
    "#### Minimum value from list"
   ]
  },
  {
   "cell_type": "code",
   "execution_count": 25,
   "id": "90e59d28-72b3-403f-b6b2-b79754f089e8",
   "metadata": {},
   "outputs": [
    {
     "name": "stdout",
     "output_type": "stream",
     "text": [
      "Minimum:  16\n"
     ]
    }
   ],
   "source": [
    "minimum = min(random_numbers)\n",
    "print(\"Minimum: \", minimum)"
   ]
  },
  {
   "cell_type": "markdown",
   "id": "9719fd73-0688-4c96-bdaf-9cdc4215a120",
   "metadata": {},
   "source": [
    "#### Maximum value from list"
   ]
  },
  {
   "cell_type": "code",
   "execution_count": 26,
   "id": "4668790b-1a0a-40fe-9534-73ed6f9e7136",
   "metadata": {},
   "outputs": [
    {
     "name": "stdout",
     "output_type": "stream",
     "text": [
      "Maxium:  74\n"
     ]
    }
   ],
   "source": [
    "maximum = max(random_numbers)\n",
    "print(\"Maxium: \", maximum)"
   ]
  },
  {
   "cell_type": "markdown",
   "id": "a207cabc-aea8-450f-b193-d4a54267fa5d",
   "metadata": {},
   "source": [
    "#### Average value of list"
   ]
  },
  {
   "cell_type": "code",
   "execution_count": 27,
   "id": "77d672b7-2382-4826-8fb6-a777ecf696e6",
   "metadata": {},
   "outputs": [
    {
     "name": "stdout",
     "output_type": "stream",
     "text": [
      "Average:  39.3\n"
     ]
    }
   ],
   "source": [
    "average = sum(random_numbers)/len(random_numbers)\n",
    "print(\"Average: \", average)"
   ]
  }
 ],
 "metadata": {
  "kernelspec": {
   "display_name": "anaconda-2024.02-py310",
   "language": "python",
   "name": "conda-env-anaconda-2024.02-py310-py"
  },
  "language_info": {
   "codemirror_mode": {
    "name": "ipython",
    "version": 3
   },
   "file_extension": ".py",
   "mimetype": "text/x-python",
   "name": "python",
   "nbconvert_exporter": "python",
   "pygments_lexer": "ipython3",
   "version": "3.10.14"
  }
 },
 "nbformat": 4,
 "nbformat_minor": 5
}
