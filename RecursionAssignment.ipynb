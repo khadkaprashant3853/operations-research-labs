{
 "cells": [
  {
   "cell_type": "markdown",
   "metadata": {
    "colab_type": "text",
    "id": "view-in-github"
   },
   "source": [
    "<a href=\"https://colab.research.google.com/github/nurfnick/Operations_Research/blob/main/RecursionAssignment.ipynb\" target=\"_parent\"><img src=\"https://colab.research.google.com/assets/colab-badge.svg\" alt=\"Open In Colab\"/></a>"
   ]
  },
  {
   "cell_type": "markdown",
   "metadata": {},
   "source": [
    "# Recursion Assignment\n",
    "**Name:** Prashant Khadka  \n",
    "**Class:** CPSMA-3933-01  \n",
    "**Instructor:** Nicholas Jacob  \n",
    "**Date:** 2025-10-28 "
   ]
  },
  {
   "cell_type": "markdown",
   "metadata": {
    "id": "gxO997rzUWoK"
   },
   "source": [
    "Solve the recursion\n",
    "$$\n",
    "f(n) = 7f(n-1)-10f(n-2)\\quad f(0) = 1\\quad f(1)=3\n",
    "$$\n",
    "\n",
    "1. Using mathematical method taught in class to get analytic equation.  Type up details and program function\n",
    "2. Using dynamic programming.\n",
    "3. Using dynamic programming and memoization.\n",
    "4. Compare the results of each function.  Discuss the advantages and disadvantages of each method.  Consider difficulty of solving and the time it would take to get the 1000 entry of the sequence in each of the three solutions."
   ]
  },
  {
   "cell_type": "markdown",
   "metadata": {
    "id": "mxuJ44JFUVog"
   },
   "source": [
    "### 1. Using mathematical method to get analytic equation\n",
    "\n",
    "Considering the equation as \n",
    "$$\n",
    "a_n=7*a_{n-1}-10*a_{n-2}\\quad a_0=1\\quad a_1=3\n",
    "$$\n",
    "\n",
    "If we consider $a_n=a*r^n$, we can write the above function as:\n",
    "$$\n",
    "a*r^n=7*a*r^{n-1}-10*a*r^{n-2}\n",
    "$$\n",
    "Reducing this we get \n",
    "$$\n",
    "r^2=7*r-10\n",
    "$$\n",
    "Now we solve the following\n",
    "$$\n",
    "(r-2)*(r-5)=0\n",
    "$$\n",
    "So $r=2$ or $r=5$.  \n",
    "Now the original function can be written as\n",
    "$$\n",
    "a_n=A*2^n+B*5^n\n",
    "$$\n",
    "Using $f(0)=1$ and $f(1)=3$, we get\n",
    "$$\n",
    "1=A+B\n",
    "$$\n",
    "$$\n",
    "3=2A+5B\n",
    "$$\n",
    "Solving this system of equations, we get\n",
    "$$A=\\frac{2}{3}\\quad B=\\frac{1}{3}$$\n",
    "\n",
    "Replacing these values, the final equation comes out to:\n",
    "$$\n",
    "f(n)=\\frac{2}{3}*2^n+\\frac{1}{3}*5^n\n",
    "$$\n",
    "Plugging in the values of $f(0)$ and $f(1)$, this equation holds. So this should be the right analytic equation.  \n",
    "  \n",
    "In the following section, we put this together in a python program."
   ]
  },
  {
   "cell_type": "code",
   "execution_count": 27,
   "metadata": {},
   "outputs": [],
   "source": [
    "def f_analytic(n):\n",
    "    return ((2 * ( 2 ** n)) + (1  * (5 ** n))) // 3\n"
   ]
  },
  {
   "cell_type": "code",
   "execution_count": 28,
   "metadata": {},
   "outputs": [
    {
     "name": "stdout",
     "output_type": "stream",
     "text": [
      "f(0) = 1\n",
      "f(1) = 3\n",
      "f(2) = 11\n",
      "f(3) = 47\n",
      "f(4) = 219\n",
      "f(5) = 1063\n",
      "f(6) = 5251\n",
      "f(7) = 26127\n",
      "f(8) = 130379\n",
      "f(9) = 651383\n"
     ]
    }
   ],
   "source": [
    "for i in range (0, 10):\n",
    "    print(f\"f({i}) = {f_analytic(i)}\")"
   ]
  },
  {
   "cell_type": "markdown",
   "metadata": {},
   "source": [
    "### 2. Using dynamic programming"
   ]
  },
  {
   "cell_type": "code",
   "execution_count": 14,
   "metadata": {},
   "outputs": [],
   "source": [
    "def f_dynamic(n):\n",
    "    if (n == 1):\n",
    "        return 3\n",
    "    if (n == 0):\n",
    "        return 1\n",
    "    return 7 * f_dynamic(n - 1) - 10 * f_dynamic(n - 2)"
   ]
  },
  {
   "cell_type": "code",
   "execution_count": 15,
   "metadata": {},
   "outputs": [
    {
     "name": "stdout",
     "output_type": "stream",
     "text": [
      "f(0) = 1\n",
      "f(1) = 3\n",
      "f(2) = 11\n",
      "f(3) = 47\n",
      "f(4) = 219\n",
      "f(5) = 1063\n",
      "f(6) = 5251\n",
      "f(7) = 26127\n",
      "f(8) = 130379\n",
      "f(9) = 651383\n"
     ]
    }
   ],
   "source": [
    "for i in range(0, 10):\n",
    "    print(f\"f({i}) = {f_dynamic(i)}\")"
   ]
  },
  {
   "cell_type": "markdown",
   "metadata": {},
   "source": [
    "### 3. Using dynamic programming with memoization"
   ]
  },
  {
   "cell_type": "code",
   "execution_count": 23,
   "metadata": {},
   "outputs": [],
   "source": [
    "def f_memo(n):\n",
    "    if (n == 1):\n",
    "        return 3\n",
    "    if (n == 0):\n",
    "        return 1\n",
    "    \n",
    "    memo = [0] * (n + 1)\n",
    "    memo[0] = 1\n",
    "    memo[1] = 3\n",
    "\n",
    "    for j in range(2,n + 1):\n",
    "        memo[j] = 7 * memo[j - 1] - 10 * memo[j - 2]\n",
    "\n",
    "    return memo[n]"
   ]
  },
  {
   "cell_type": "code",
   "execution_count": 24,
   "metadata": {},
   "outputs": [
    {
     "name": "stdout",
     "output_type": "stream",
     "text": [
      "f(0) = 1\n",
      "f(1) = 3\n",
      "f(2) = 11\n",
      "f(3) = 47\n",
      "f(4) = 219\n",
      "f(5) = 1063\n",
      "f(6) = 5251\n",
      "f(7) = 26127\n",
      "f(8) = 130379\n",
      "f(9) = 651383\n"
     ]
    }
   ],
   "source": [
    "for i in range(0, 10):\n",
    "    print(f\"f({i}) = {f_memo(i)}\")"
   ]
  },
  {
   "cell_type": "markdown",
   "metadata": {},
   "source": [
    "### 4. Comparison\n",
    "\n",
    "#### Analytic approach\n",
    "This approach has some initial complexity to first figure out the analytic equation. However, once figured out, each function call is a single calculation, i.e. $O(1)$ time complexity and also requires a small constant amount of memory, i.e. $O(1)$ space complexity.\n",
    "\n",
    "#### Dynamic Programming\n",
    "This approach directly can be implemented what is the provided set of function and base values so is comparatively simple to implement and intuitive, with a basic understanding of recursion. That being said, for each value, the function needs to be called 2 times, during each of which the next numbers down in the sequence would call the function 2 times each and so on. This leads to a $O(2^n)$ time complexity. In terms of space complexity, since the call stack would go down from $f(n)$ to $f(1)$ or $f(0)$ depending on n, this leads to a space complexity of $O(n)$.\n",
    "\n",
    "#### Dynamic Programming with memoization\n",
    "This approach is an improvement in terms of time complexity over the recursive-only dynamic programming approach since it prevents recalculation if an number is already calculated in the process of calculating $f(n)$. This ensures the value of the function is only calculated once for 1 through n - 1 only once, bringing the time complexity down to $O(n)$. Since this approach does require an array of size n to store all values of $f(n)$ where n = 0 to n-1, the space complexity is $O(n)$.  \n",
    "\n",
    "\n",
    "#### For calculating the value for n = 1000, \n",
    "- The program for the analytic approach would be a single calculation that would be rapid, while also not requiring a lot of memory compared to much lower values of n. The complexity for this method is the manual process required to derive the analytic equation from the initial function.\n",
    "- The recursive dynamic programming approach would need to make function calls on the order of $2^{1000}$, which would be extremely inefficient. (On anaconda workspace, it does not return a result, while on my personal computer I get errors saying the maximum call depth exceeded.)\n",
    "- The dynamic programming approach with memoization would need to calculate the values for $f(n)$ from 0 going up to 1000, which is much more than the single calculation needed for the analytic approach. It would also require storing all the 1000 results, so there is some memory overhead as well, although for 1000 numbers, it may not be too high."
   ]
  }
 ],
 "metadata": {
  "colab": {
   "authorship_tag": "ABX9TyOrdJi6kU7d5Rz82KRChOFR",
   "include_colab_link": true,
   "provenance": []
  },
  "kernelspec": {
   "display_name": "anaconda-panel-2023.05-py310",
   "language": "python",
   "name": "conda-env-anaconda-panel-2023.05-py310-py"
  },
  "language_info": {
   "codemirror_mode": {
    "name": "ipython",
    "version": 3
   },
   "file_extension": ".py",
   "mimetype": "text/x-python",
   "name": "python",
   "nbconvert_exporter": "python",
   "pygments_lexer": "ipython3",
   "version": "3.11.5"
  }
 },
 "nbformat": 4,
 "nbformat_minor": 4
}
